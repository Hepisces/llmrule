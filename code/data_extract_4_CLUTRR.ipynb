{
 "cells": [
  {
   "cell_type": "code",
   "execution_count": 1,
   "metadata": {},
   "outputs": [],
   "source": [
    "import os"
   ]
  },
  {
   "cell_type": "code",
   "execution_count": 8,
   "metadata": {},
   "outputs": [],
   "source": [
    "import pandas as pd"
   ]
  },
  {
   "cell_type": "code",
   "execution_count": 4,
   "metadata": {},
   "outputs": [
    {
     "data": {
      "text/plain": [
       "'f:\\\\Files\\\\work\\\\ICT\\\\PAPER_PREPREDUCIBILITY\\\\LLM_can_learn_RULES'"
      ]
     },
     "execution_count": 4,
     "metadata": {},
     "output_type": "execute_result"
    }
   ],
   "source": [
    "os.getcwd()"
   ]
  },
  {
   "cell_type": "code",
   "execution_count": 9,
   "metadata": {},
   "outputs": [],
   "source": [
    "path=\"F:\\\\Files\\\\work\\\\ICT\\\\PAPER_PREPREDUCIBILITY\\\\LLM_can_learn_RULES\\\\data_publish\\\\data_emnlp_final\"\n",
    "folds=os.listdir(path)"
   ]
  },
  {
   "cell_type": "code",
   "execution_count": 20,
   "metadata": {},
   "outputs": [],
   "source": [
    "csvs=[]\n",
    "for files in folds[:-1]:\n",
    "    temp=os.listdir(path+'\\\\'+files)[:-1]\n",
    "    temp=[path+'\\\\'+files+'\\\\'+i for i in temp]\n",
    "    csvs+=temp"
   ]
  },
  {
   "cell_type": "code",
   "execution_count": 21,
   "metadata": {},
   "outputs": [
    {
     "data": {
      "text/plain": [
       "['F:\\\\Files\\\\work\\\\ICT\\\\PAPER_PREPREDUCIBILITY\\\\LLM_can_learn_RULES\\\\data_publish\\\\data_emnlp_final\\\\data_06b8f2a1\\\\1.3_test.csv',\n",
       " 'F:\\\\Files\\\\work\\\\ICT\\\\PAPER_PREPREDUCIBILITY\\\\LLM_can_learn_RULES\\\\data_publish\\\\data_emnlp_final\\\\data_06b8f2a1\\\\2.2,2.3_train.csv',\n",
       " 'F:\\\\Files\\\\work\\\\ICT\\\\PAPER_PREPREDUCIBILITY\\\\LLM_can_learn_RULES\\\\data_publish\\\\data_emnlp_final\\\\data_06b8f2a1\\\\2.2_test.csv',\n",
       " 'F:\\\\Files\\\\work\\\\ICT\\\\PAPER_PREPREDUCIBILITY\\\\LLM_can_learn_RULES\\\\data_publish\\\\data_emnlp_final\\\\data_06b8f2a1\\\\2.3_test.csv',\n",
       " 'F:\\\\Files\\\\work\\\\ICT\\\\PAPER_PREPREDUCIBILITY\\\\LLM_can_learn_RULES\\\\data_publish\\\\data_emnlp_final\\\\data_06b8f2a1\\\\3.3_test.csv',\n",
       " 'F:\\\\Files\\\\work\\\\ICT\\\\PAPER_PREPREDUCIBILITY\\\\LLM_can_learn_RULES\\\\data_publish\\\\data_emnlp_final\\\\data_06b8f2a1\\\\4.3_test.csv',\n",
       " 'F:\\\\Files\\\\work\\\\ICT\\\\PAPER_PREPREDUCIBILITY\\\\LLM_can_learn_RULES\\\\data_publish\\\\data_emnlp_final\\\\data_089907f8\\\\1.10_test.csv',\n",
       " 'F:\\\\Files\\\\work\\\\ICT\\\\PAPER_PREPREDUCIBILITY\\\\LLM_can_learn_RULES\\\\data_publish\\\\data_emnlp_final\\\\data_089907f8\\\\1.2,1.3_train.csv',\n",
       " 'F:\\\\Files\\\\work\\\\ICT\\\\PAPER_PREPREDUCIBILITY\\\\LLM_can_learn_RULES\\\\data_publish\\\\data_emnlp_final\\\\data_089907f8\\\\1.2_test.csv',\n",
       " 'F:\\\\Files\\\\work\\\\ICT\\\\PAPER_PREPREDUCIBILITY\\\\LLM_can_learn_RULES\\\\data_publish\\\\data_emnlp_final\\\\data_089907f8\\\\1.3_test.csv',\n",
       " 'F:\\\\Files\\\\work\\\\ICT\\\\PAPER_PREPREDUCIBILITY\\\\LLM_can_learn_RULES\\\\data_publish\\\\data_emnlp_final\\\\data_089907f8\\\\1.4_test.csv',\n",
       " 'F:\\\\Files\\\\work\\\\ICT\\\\PAPER_PREPREDUCIBILITY\\\\LLM_can_learn_RULES\\\\data_publish\\\\data_emnlp_final\\\\data_089907f8\\\\1.5_test.csv',\n",
       " 'F:\\\\Files\\\\work\\\\ICT\\\\PAPER_PREPREDUCIBILITY\\\\LLM_can_learn_RULES\\\\data_publish\\\\data_emnlp_final\\\\data_089907f8\\\\1.6_test.csv',\n",
       " 'F:\\\\Files\\\\work\\\\ICT\\\\PAPER_PREPREDUCIBILITY\\\\LLM_can_learn_RULES\\\\data_publish\\\\data_emnlp_final\\\\data_089907f8\\\\1.7_test.csv',\n",
       " 'F:\\\\Files\\\\work\\\\ICT\\\\PAPER_PREPREDUCIBILITY\\\\LLM_can_learn_RULES\\\\data_publish\\\\data_emnlp_final\\\\data_089907f8\\\\1.8_test.csv',\n",
       " 'F:\\\\Files\\\\work\\\\ICT\\\\PAPER_PREPREDUCIBILITY\\\\LLM_can_learn_RULES\\\\data_publish\\\\data_emnlp_final\\\\data_089907f8\\\\1.9_test.csv',\n",
       " 'F:\\\\Files\\\\work\\\\ICT\\\\PAPER_PREPREDUCIBILITY\\\\LLM_can_learn_RULES\\\\data_publish\\\\data_emnlp_final\\\\data_523348e6\\\\1.3_test.csv',\n",
       " 'F:\\\\Files\\\\work\\\\ICT\\\\PAPER_PREPREDUCIBILITY\\\\LLM_can_learn_RULES\\\\data_publish\\\\data_emnlp_final\\\\data_523348e6\\\\2.3_test.csv',\n",
       " 'F:\\\\Files\\\\work\\\\ICT\\\\PAPER_PREPREDUCIBILITY\\\\LLM_can_learn_RULES\\\\data_publish\\\\data_emnlp_final\\\\data_523348e6\\\\3.2,3.3_train.csv',\n",
       " 'F:\\\\Files\\\\work\\\\ICT\\\\PAPER_PREPREDUCIBILITY\\\\LLM_can_learn_RULES\\\\data_publish\\\\data_emnlp_final\\\\data_523348e6\\\\3.2_test.csv',\n",
       " 'F:\\\\Files\\\\work\\\\ICT\\\\PAPER_PREPREDUCIBILITY\\\\LLM_can_learn_RULES\\\\data_publish\\\\data_emnlp_final\\\\data_523348e6\\\\3.3_test.csv',\n",
       " 'F:\\\\Files\\\\work\\\\ICT\\\\PAPER_PREPREDUCIBILITY\\\\LLM_can_learn_RULES\\\\data_publish\\\\data_emnlp_final\\\\data_523348e6\\\\4.3_test.csv',\n",
       " 'F:\\\\Files\\\\work\\\\ICT\\\\PAPER_PREPREDUCIBILITY\\\\LLM_can_learn_RULES\\\\data_publish\\\\data_emnlp_final\\\\data_7c5b0e70\\\\1.2,1.3_train.csv',\n",
       " 'F:\\\\Files\\\\work\\\\ICT\\\\PAPER_PREPREDUCIBILITY\\\\LLM_can_learn_RULES\\\\data_publish\\\\data_emnlp_final\\\\data_7c5b0e70\\\\1.2_test.csv',\n",
       " 'F:\\\\Files\\\\work\\\\ICT\\\\PAPER_PREPREDUCIBILITY\\\\LLM_can_learn_RULES\\\\data_publish\\\\data_emnlp_final\\\\data_7c5b0e70\\\\1.3_test.csv',\n",
       " 'F:\\\\Files\\\\work\\\\ICT\\\\PAPER_PREPREDUCIBILITY\\\\LLM_can_learn_RULES\\\\data_publish\\\\data_emnlp_final\\\\data_7c5b0e70\\\\2.3_test.csv',\n",
       " 'F:\\\\Files\\\\work\\\\ICT\\\\PAPER_PREPREDUCIBILITY\\\\LLM_can_learn_RULES\\\\data_publish\\\\data_emnlp_final\\\\data_7c5b0e70\\\\3.3_test.csv',\n",
       " 'F:\\\\Files\\\\work\\\\ICT\\\\PAPER_PREPREDUCIBILITY\\\\LLM_can_learn_RULES\\\\data_publish\\\\data_emnlp_final\\\\data_7c5b0e70\\\\4.3_test.csv',\n",
       " 'F:\\\\Files\\\\work\\\\ICT\\\\PAPER_PREPREDUCIBILITY\\\\LLM_can_learn_RULES\\\\data_publish\\\\data_emnlp_final\\\\data_d83ecc3e\\\\1.3_test.csv',\n",
       " 'F:\\\\Files\\\\work\\\\ICT\\\\PAPER_PREPREDUCIBILITY\\\\LLM_can_learn_RULES\\\\data_publish\\\\data_emnlp_final\\\\data_d83ecc3e\\\\2.3_test.csv',\n",
       " 'F:\\\\Files\\\\work\\\\ICT\\\\PAPER_PREPREDUCIBILITY\\\\LLM_can_learn_RULES\\\\data_publish\\\\data_emnlp_final\\\\data_d83ecc3e\\\\3.3_test.csv',\n",
       " 'F:\\\\Files\\\\work\\\\ICT\\\\PAPER_PREPREDUCIBILITY\\\\LLM_can_learn_RULES\\\\data_publish\\\\data_emnlp_final\\\\data_d83ecc3e\\\\4.2,4.3_train.csv',\n",
       " 'F:\\\\Files\\\\work\\\\ICT\\\\PAPER_PREPREDUCIBILITY\\\\LLM_can_learn_RULES\\\\data_publish\\\\data_emnlp_final\\\\data_d83ecc3e\\\\4.2_test.csv',\n",
       " 'F:\\\\Files\\\\work\\\\ICT\\\\PAPER_PREPREDUCIBILITY\\\\LLM_can_learn_RULES\\\\data_publish\\\\data_emnlp_final\\\\data_d83ecc3e\\\\4.3_test.csv',\n",
       " 'F:\\\\Files\\\\work\\\\ICT\\\\PAPER_PREPREDUCIBILITY\\\\LLM_can_learn_RULES\\\\data_publish\\\\data_emnlp_final\\\\data_db9b8f04\\\\1.10_test.csv',\n",
       " 'F:\\\\Files\\\\work\\\\ICT\\\\PAPER_PREPREDUCIBILITY\\\\LLM_can_learn_RULES\\\\data_publish\\\\data_emnlp_final\\\\data_db9b8f04\\\\1.2,1.3,1.4_train.csv',\n",
       " 'F:\\\\Files\\\\work\\\\ICT\\\\PAPER_PREPREDUCIBILITY\\\\LLM_can_learn_RULES\\\\data_publish\\\\data_emnlp_final\\\\data_db9b8f04\\\\1.2_test.csv',\n",
       " 'F:\\\\Files\\\\work\\\\ICT\\\\PAPER_PREPREDUCIBILITY\\\\LLM_can_learn_RULES\\\\data_publish\\\\data_emnlp_final\\\\data_db9b8f04\\\\1.3_test.csv',\n",
       " 'F:\\\\Files\\\\work\\\\ICT\\\\PAPER_PREPREDUCIBILITY\\\\LLM_can_learn_RULES\\\\data_publish\\\\data_emnlp_final\\\\data_db9b8f04\\\\1.4_test.csv',\n",
       " 'F:\\\\Files\\\\work\\\\ICT\\\\PAPER_PREPREDUCIBILITY\\\\LLM_can_learn_RULES\\\\data_publish\\\\data_emnlp_final\\\\data_db9b8f04\\\\1.5_test.csv',\n",
       " 'F:\\\\Files\\\\work\\\\ICT\\\\PAPER_PREPREDUCIBILITY\\\\LLM_can_learn_RULES\\\\data_publish\\\\data_emnlp_final\\\\data_db9b8f04\\\\1.6_test.csv',\n",
       " 'F:\\\\Files\\\\work\\\\ICT\\\\PAPER_PREPREDUCIBILITY\\\\LLM_can_learn_RULES\\\\data_publish\\\\data_emnlp_final\\\\data_db9b8f04\\\\1.7_test.csv',\n",
       " 'F:\\\\Files\\\\work\\\\ICT\\\\PAPER_PREPREDUCIBILITY\\\\LLM_can_learn_RULES\\\\data_publish\\\\data_emnlp_final\\\\data_db9b8f04\\\\1.8_test.csv',\n",
       " 'F:\\\\Files\\\\work\\\\ICT\\\\PAPER_PREPREDUCIBILITY\\\\LLM_can_learn_RULES\\\\data_publish\\\\data_emnlp_final\\\\data_db9b8f04\\\\1.9_test.csv']"
      ]
     },
     "execution_count": 21,
     "metadata": {},
     "output_type": "execute_result"
    }
   ],
   "source": [
    "csvs"
   ]
  },
  {
   "cell_type": "code",
   "execution_count": 46,
   "metadata": {},
   "outputs": [],
   "source": [
    "columns=['id','query','target','f_comb','edge_types','genders','task_split']\n",
    "data=pd.DataFrame(columns=columns)"
   ]
  },
  {
   "cell_type": "code",
   "execution_count": 59,
   "metadata": {},
   "outputs": [],
   "source": [
    "for csv in csvs:\n",
    "    df=pd.read_csv(csv,usecols=columns)\n",
    "    data=pd.concat([data,df],axis=0)"
   ]
  },
  {
   "cell_type": "code",
   "execution_count": 65,
   "metadata": {},
   "outputs": [],
   "source": [
    "data.sort_values(by=['task_split'],inplace=True)\n",
    "data.reset_index(drop=True,inplace=True)"
   ]
  },
  {
   "cell_type": "code",
   "execution_count": 72,
   "metadata": {},
   "outputs": [],
   "source": [
    "groups=[group[1] for group in data.groupby('task_split')]"
   ]
  },
  {
   "cell_type": "code",
   "execution_count": 75,
   "metadata": {},
   "outputs": [],
   "source": [
    "#groups[0].to_csv(\"CLUTRR_test.csv\", index=False)\n",
    "#groups[1].to_csv(\"CLUTRR_train.csv\", index=False)"
   ]
  },
  {
   "cell_type": "code",
   "execution_count": null,
   "metadata": {},
   "outputs": [],
   "source": []
  }
 ],
 "metadata": {
  "kernelspec": {
   "display_name": "LLMS",
   "language": "python",
   "name": "python3"
  },
  "language_info": {
   "codemirror_mode": {
    "name": "ipython",
    "version": 3
   },
   "file_extension": ".py",
   "mimetype": "text/x-python",
   "name": "python",
   "nbconvert_exporter": "python",
   "pygments_lexer": "ipython3",
   "version": "3.12.4"
  }
 },
 "nbformat": 4,
 "nbformat_minor": 2
}
