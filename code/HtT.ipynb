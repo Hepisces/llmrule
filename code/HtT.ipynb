{
 "cells": [
  {
   "cell_type": "code",
   "execution_count": 12,
   "metadata": {},
   "outputs": [],
   "source": [
    "import pandas as pd\n",
    "import numpy as np\n",
    "from tqdm import trange"
   ]
  },
  {
   "cell_type": "code",
   "execution_count": 19,
   "metadata": {},
   "outputs": [],
   "source": [
    "path=\"F:\\\\Files\\\\work\\\\ICT\\\\PAPER_PREPREDUCIBILITY\\\\LLM_can_learn_RULES\\\\CLUTTER_test_\"\n",
    "data1=pd.read_csv(path+\"0.csv\")\n",
    "data2=pd.read_csv(path+\"1.csv\")\n",
    "data3=pd.read_csv(path+\"2.csv\")"
   ]
  },
  {
   "cell_type": "markdown",
   "metadata": {},
   "source": [
    "## 5-shot_CoT+HtT"
   ]
  },
  {
   "cell_type": "code",
   "execution_count": 72,
   "metadata": {},
   "outputs": [
    {
     "data": {
      "text/plain": [
       "'{Aunt’s sister is aunt|<Aunt’s><sister>}\\n{ Brother’s aunt is aunt|<Brother’s><aunt>}\\n{ Brother’s brother is brother|<Brother’s><brother>}\\n{ Brother’s daughter is niece|<Brother’s><daughter>}\\n{ Brother’s father is father|<Brother’s><father>}\\n{ Brother’s grandfather is grandfather|<Brother’s><grandfather>}\\n{ Brother’s grandmother is grandmother|<Brother’s><grandmother>}\\n{ Brother’s mother is mother|<Brother’s><mother>}\\n{ Brother’s sister is sister|<Brother’s><sister>}\\n{ Brother’s son is nephew|<Brother’s><son>}\\n{ Brother’s uncle is uncle|<Brother’s><uncle>}\\n{ Brother’s wife is sister-in-law|<Brother’s><wife>}\\n{ Brother-in-law’s daughter is niece|<Brother-in-law’s><daughter>}\\n{ Brotherin-law’s father is father-in-law|<Brotherin-law’s><father>}\\n{ Brother-in-law’s mother is mother-in-law|<Brother-in-law’s><mother>}\\n{ Brother-in-law’s son is nephew|<Brother-in-law’s><son>}\\n{ Daughter’s aunt is sister|<Daughter’s><aunt>}\\n{ Daughter’s brother is son|<Daughter’s><brother>}\\n{ Daughter’s daughter is granddaughter|<Daughter’s><daughter>}\\n{ Daughter’s grandfather is father|<Daughter’s><grandfather>}\\n{ Daughter’s grandmother is mother|<Daughter’s><grandmother>}\\n{ Daughter’s husband is son-in-law|<Daughter’s><husband>}\\n{ Daughter’s sister is daughter|<Daughter’s><sister>}\\n{ Daughter’s son is grandson|<Daughter’s><son>}\\n{ Daughter’s uncle is brother|<Daughter’s><uncle>}\\n{ Daughter-in-law’s daughter is granddaughter|<Daughter-in-law’s><daughter>}\\n{ Daughter-in-law’s son is grandson|<Daughter-in-law’s><son>}\\n{ Father’s brother is uncle|<Father’s><brother>}\\n{ Father’s daughter is sister|<Father’s><daughter>}\\n{ Father’s father is grandfather|<Father’s><father>}\\n{ Father’s mother is grandmother|<Father’s><mother>}\\n{ Father’s sister is aunt|<Father’s><sister>}\\n{ Father’s son is brother|<Father’s><son>}\\n{ Father’s wife is mother|<Father’s><wife>}\\n{ Granddaughter’s brother is grandson|<Granddaughter’s><brother>}\\n{ Granddaughter’s father is son|<Granddaughter’s><father>}\\n{ Granddaughter’s mother is daughter|<Granddaughter’s><mother>}\\n{ Granddaughter’s sister is granddaughter|<Granddaughter’s><sister>}\\n{ Granddaughter’s uncle is son|<Granddaughter’s><uncle>}\\n{ Grandfather’s daughter is aunt|<Grandfather’s><daughter>}\\n{ Grandfather’s son is uncle|<Grandfather’s><son>}\\n{ Grandmother’s daughter is aunt|<Grandmother’s><daughter>}\\n{ Grandmother’s son is uncle|<Grandmother’s><son>}\\n{ Grandson’s brother is grandson|<Grandson’s><brother>}\\n{ Grandson’s father is son|<Grandson’s><father>}\\n{ Grandson’s mother is daughter|<Grandson’s><mother>}\\n{ Grandson’s sister is granddaughter|<Grandson’s><sister>}\\n{ Grandson’s uncle is son|<Grandson’s><uncle>}\\n{ Husband’s daughter is daughter|<Husband’s><daughter>}\\n{ Husband’s father is father-in-law|<Husband’s><father>}\\n{ Husband’s granddaughter is granddaughter|<Husband’s><granddaughter>}\\n{ Husband’s grandson is grandson|<Husband’s><grandson>}\\n{ Husband’s mother is mother-in-law|<Husband’s><mother>}\\n{ Husband’s son is son|<Husband’s><son>}\\n{ Mother’s brother is uncle|<Mother’s><brother>}\\n{ Mother’s daughter is sister|<Mother’s><daughter>}\\n{ Mother’s father is grandfather|<Mother’s><father>}\\n{ Mother’s mother is grandmother|<Mother’s><mother>}\\n{ Mother’s sister is aunt|<Mother’s><sister>}\\n{ Mother’s son is brother|<Mother’s><son>}\\n{ Nephew’s grandfather is father|<Nephew’s><grandfather>}\\n{ Nephew’s grandmother is mother|<Nephew’s><grandmother>}\\n{ Nephew’s sister is niece|<Nephew’s><sister>}\\n{ Niece’s brother is nephew|<Niece’s><brother>}\\n{ Niece’s uncle is brother|<Niece’s><uncle>}\\n{ Self’s brother is brother|<Self’s><brother>}\\n{ Sister’s brother is brother|<Sister’s><brother>}\\n{ Sister’s daughter is niece|<Sister’s><daughter>}\\n{ Sister’s father is father|<Sister’s><father>}\\n{ Sister’s grandfather is grandfather|<Sister’s><grandfather>}\\n{ Sister’s grandmother is grandmother|<Sister’s><grandmother>}\\n{ Sister’s husband is brother-in-law|<Sister’s><husband>}\\n{ Sister’s mother is mother|<Sister’s><mother>}\\n{ Sister’s sister is sister|<Sister’s><sister>}\\n{ Sister’s son is nephew|<Sister’s><son>}\\n{ Sister-in-law’s daughter is niece|<Sister-in-law’s><daughter>}\\n{ Sister-in-law’s father is father-in-law|<Sister-in-law’s><father>}\\n{ Sister-in-law’s mother is mother-in-law|<Sister-in-law’s><mother>}\\n{ Sister-in-law’s son is nephew|<Sister-in-law’s><son>}\\n{ Son’s aunt is sister|<Son’s><aunt>}\\n{ Son’s brother is son|<Son’s><brother>}\\n{ Son’s daughter is granddaughter|<Son’s><daughter>}\\n{ Son’s grandfather is father|<Son’s><grandfather>}\\n{ Son’s grandmother is mother|<Son’s><grandmother>}\\n{ Son’s sister is daughter|<Son’s><sister>}\\n{ Son’s son is grandson|<Son’s><son>}\\n{ Son’s uncle is brother|<Son’s><uncle>}\\n{ Son’s wife is daughter-in-law|<Son’s><wife>}\\n{ Son-in-law’s son is grandson|<Son-in-law’s><son>}\\n{ Step-daughter’s grandmother is mother|<Step-daughter’s><grandmother>}\\n{ Uncle’s sister is aunt|<Uncle’s><sister>}\\n{ Wife’s brother is brother-in-law|<Wife’s><brother>}\\n{ Wife’s daughter is daughter|<Wife’s><daughter>}\\n{ Wife’s father is father-in-law|<Wife’s><father>}\\n{ Wife’s granddaughter is granddaughter|<Wife’s><granddaughter>}\\n{ Wife’s grandson is grandson|<Wife’s><grandson>}\\n{ Wife’s mother is mother-in-law|<Wife’s><mother>}\\n{ Wife’s son is son|<Wife’s><son>}\\n'"
      ]
     },
     "execution_count": 72,
     "metadata": {},
     "output_type": "execute_result"
    }
   ],
   "source": [
    "rule4CLUTTER=\"Aunt’s sister is aunt. Brother’s aunt is aunt. Brother’s brother is brother. Brother’s daughter is niece. Brother’s father is father. Brother’s grandfather is grandfather. Brother’s grandmother is grandmother. Brother’s mother is mother. Brother’s sister is sister. Brother’s son is nephew. Brother’s uncle is uncle. Brother’s wife is sister-in-law. Brother-in-law’s daughter is niece. Brotherin-law’s father is father-in-law. Brother-in-law’s mother is mother-in-law. Brother-in-law’s son is nephew. Daughter’s aunt is sister. Daughter’s brother is son. Daughter’s daughter is granddaughter. Daughter’s grandfather is father. Daughter’s grandmother is mother. Daughter’s husband is son-in-law. Daughter’s sister is daughter. Daughter’s son is grandson. Daughter’s uncle is brother. Daughter-in-law’s daughter is granddaughter. Daughter-in-law’s son is grandson. Father’s brother is uncle. Father’s daughter is sister. Father’s father is grandfather. Father’s mother is grandmother. Father’s sister is aunt. Father’s son is brother. Father’s wife is mother. Granddaughter’s brother is grandson. Granddaughter’s father is son. Granddaughter’s mother is daughter. Granddaughter’s sister is granddaughter. Granddaughter’s uncle is son. Grandfather’s daughter is aunt. Grandfather’s son is uncle. Grandmother’s daughter is aunt. Grandmother’s son is uncle. Grandson’s brother is grandson. Grandson’s father is son. Grandson’s mother is daughter. Grandson’s sister is granddaughter. Grandson’s uncle is son. Husband’s daughter is daughter. Husband’s father is father-in-law. Husband’s granddaughter is granddaughter. Husband’s grandson is grandson. Husband’s mother is mother-in-law. Husband’s son is son. Mother’s brother is uncle. Mother’s daughter is sister. Mother’s father is grandfather. Mother’s mother is grandmother. Mother’s sister is aunt. Mother’s son is brother. Nephew’s grandfather is father. Nephew’s grandmother is mother. Nephew’s sister is niece. Niece’s brother is nephew. Niece’s uncle is brother. Self’s brother is brother. Sister’s brother is brother. Sister’s daughter is niece. Sister’s father is father. Sister’s grandfather is grandfather. Sister’s grandmother is grandmother. Sister’s husband is brother-in-law. Sister’s mother is mother. Sister’s sister is sister. Sister’s son is nephew. Sister-in-law’s daughter is niece. Sister-in-law’s father is father-in-law. Sister-in-law’s mother is mother-in-law. Sister-in-law’s son is nephew. Son’s aunt is sister. Son’s brother is son. Son’s daughter is granddaughter. Son’s grandfather is father. Son’s grandmother is mother. Son’s sister is daughter. Son’s son is grandson. Son’s uncle is brother. Son’s wife is daughter-in-law. Son-in-law’s son is grandson. Step-daughter’s grandmother is mother. Uncle’s sister is aunt. Wife’s brother is brother-in-law. Wife’s daughter is daughter. Wife’s father is father-in-law. Wife’s granddaughter is granddaughter. Wife’s grandson is grandson. Wife’s mother is mother-in-law. Wife’s son is son.\"\n",
    "\n",
    "rule4CLUTTER=rule4CLUTTER.split(\".\")\n",
    "rule4CLUTTER.pop()\n",
    "rules4cl=[\"{\"+i+f\"|<{i.split()[0]}><{i.split()[1]}>\"+\"}\\n\" for i in rule4CLUTTER]\n",
    "rule4CLUTTER=\"\"\n",
    "for i in rules4cl:\n",
    "    rule4CLUTTER+=i\n",
    "rule4CLUTTER"
   ]
  },
  {
   "cell_type": "code",
   "execution_count": 41,
   "metadata": {},
   "outputs": [
    {
     "data": {
      "text/plain": [
       "'Context: The relations on the path from {Stephen} to {Nettie} are {son,mother,mother}. Question: {Stephen} is {Nettie}’s what? \\n\\nAnswer:'"
      ]
     },
     "execution_count": 41,
     "metadata": {},
     "output_type": "execute_result"
    }
   ],
   "source": [
    "data1['5-shot_CoT+HtT']=data1['zero_shot_content'].apply(lambda x: x[:-26])\n",
    "data2['5-shot_CoT+HtT']=data2['zero_shot_content'].apply(lambda x: x[:-26])\n",
    "data3['5-shot_CoT+HtT']=data3['zero_shot_content'].apply(lambda x: x[:-26])\n",
    "data2.iloc[0,-1]"
   ]
  },
  {
   "cell_type": "code",
   "execution_count": 60,
   "metadata": {},
   "outputs": [],
   "source": [
    "from http import HTTPStatus\n",
    "from dashscope import Generation"
   ]
  },
  {
   "cell_type": "code",
   "execution_count": 63,
   "metadata": {},
   "outputs": [],
   "source": [
    "shot=\"\\n\\n Context: The relations on the path from Alan to Anthony are daughter, uncle, son.\\n\\n Question: Anthony is Alan’s what?\\n\\n Answer: For daughter’s uncle, we retrieve <daughter><uncle>daughter’s uncle is brother. So the relations are reduced to brother, son. For brother’s son, we retrieve <brother><son>brother’s son is nephew. So the relations are reduced to nephew. Therefore, the answer is nephew. Context: The relations on the path from Annie to Carlos are brother, mother, son. \\n\\nQuestion: Carlos is Annie’s what? \\n\\nAnswer: For brother’s mother, we retrieve <brother><mother>brother’s mother is mother. So the relations are reduced to mother, son. For mother’s son, we retrieve <mother><son>mother’s son is brother. So the relations are reduced to brother. Therefore, the answer is brother. \\n\\nContext: The relations on the path from Beverly to Michelle are father, daughter, aunt.\\n\\n Question: Michelle is Beverly’s what? \\n\\nAnswer: For father’s daughter, we retrieve <father><daughter>father’s daughter is sister. So the relations are reduced to sister, aunt. For sister’s aunt, we retrieve <sister><aunt>sister’s aunt is aunt. So the relations are reduced to aunt. Therefore, the answer is aunt. Context: The relations on the path from Lee to Jeanna are father, daughter, sister.\\n\\n Question: Jeanna is Lee’s what? \\n\\nAnswer: For father’s daughter, we retrieve <father><daughter>father’s daughter is sister. So the relations are reduced to sister, sister. For sister’s sister, we retrieve <sister><sister>Sister’s sister is sister. So the relations are reduced to sister. Therefore, the answer is sister. Context: The relations on the path from Craig to Molly are sister, father, mother. \\n\\nQuestion: Molly is Craig’s what? \\n\\nAnswer: For sister’s father, we retrieve <sister><father>sister’s father is father. So the relations are reduced to father, mother. For father’s mother, we retrieve <father><mother>father’s mother is grandmother. So the relations are reduced to grandmother.Therefore, the answer is grandmother.\\n\\n\""
   ]
  },
  {
   "cell_type": "code",
   "execution_count": 82,
   "metadata": {},
   "outputs": [],
   "source": [
    "model = \"qwen-turbo\"\n",
    "\n",
    "\n",
    "def five_shot_CoT_HtT_generation(content):\n",
    "    responses = []\n",
    "    content = (\n",
    "        \"Instruction: When you answer the questions, try to use the provided knowledge whenever possible. Try not to invent knowledge by yourself unless necessary. \\n\\nKnowledge:\"\n",
    "        + rule4CLUTTER\n",
    "        + shot\n",
    "        + content\n",
    "    )\n",
    "    messages = [{\"role\": \"system\", \"content\": \"\"}, {\"role\": \"user\", \"content\": content}]\n",
    "    response = Generation.call(\n",
    "        model=model, messages=messages, temperature=1.0, result_format=\"message\"\n",
    "    )\n",
    "    if response.status_code == HTTPStatus.OK:\n",
    "        responses.append(response.output.choices[0][\"message\"][\"content\"])\n",
    "    else:\n",
    "        print(\n",
    "            \"Request id: %s, Status code: %s, error code: %s, error message: %s\"\n",
    "            % (\n",
    "                response.request_id,\n",
    "                response.status_code,\n",
    "                response.code,\n",
    "                response.message,\n",
    "            )\n",
    "        )\n",
    "\n",
    "    messages.append(\n",
    "        {\n",
    "            \"role\": response.output.choices[0][\"message\"][\"role\"],\n",
    "            \"content\": response.output.choices[0][\"message\"][\"content\"],\n",
    "        }\n",
    "    )\n",
    "\n",
    "    messages.append(\n",
    "        {\n",
    "            \"role\": \"user\",\n",
    "            \"content\": \"What's the final conclusion? Give me nothing but relation in one word.\",\n",
    "        }\n",
    "    )\n",
    "    response = Generation.call(\n",
    "        model=model,\n",
    "        messages=messages,\n",
    "        prompt=None,\n",
    "        temperature=1.0,\n",
    "        result_format=\"message\",\n",
    "    )\n",
    "    if response.status_code == HTTPStatus.OK:\n",
    "        responses.append(response.output.choices[0][\"message\"][\"content\"])\n",
    "    else:\n",
    "        print(\n",
    "            \"Request id: %s, Status code: %s, error code: %s, error message: %s\"\n",
    "            % (\n",
    "                response.request_id,\n",
    "                response.status_code,\n",
    "                response.code,\n",
    "                response.message,\n",
    "            )\n",
    "        )\n",
    "\n",
    "    return responses"
   ]
  },
  {
   "cell_type": "code",
   "execution_count": 83,
   "metadata": {},
   "outputs": [],
   "source": [
    "datas=[data1,data2,data3]"
   ]
  },
  {
   "cell_type": "code",
   "execution_count": 84,
   "metadata": {},
   "outputs": [
    {
     "name": "stdout",
     "output_type": "stream",
     "text": [
      "For brother’s granddaughter, we retrieve <brother><granddaughter>brother’s granddaughter is niece. Therefore, Kyle is Casey's niece.\n",
      "niece\n"
     ]
    }
   ],
   "source": [
    "five_shot_CoT_HtTs=[]\n",
    "responsers=five_shot_CoT_HtT_generation(data1[\"5-shot_CoT+HtT\"][5])\n",
    "print(responsers[0],responsers[1],sep='\\n')"
   ]
  },
  {
   "cell_type": "code",
   "execution_count": 85,
   "metadata": {},
   "outputs": [
    {
     "name": "stderr",
     "output_type": "stream",
     "text": [
      "100%|██████████| 50/50 [02:36<00:00,  3.14s/it]\n",
      "100%|██████████| 50/50 [03:03<00:00,  3.68s/it]\n",
      "100%|██████████| 50/50 [03:21<00:00,  4.03s/it]\n"
     ]
    },
    {
     "data": {
      "text/html": [
       "<div>\n",
       "<style scoped>\n",
       "    .dataframe tbody tr th:only-of-type {\n",
       "        vertical-align: middle;\n",
       "    }\n",
       "\n",
       "    .dataframe tbody tr th {\n",
       "        vertical-align: top;\n",
       "    }\n",
       "\n",
       "    .dataframe thead th {\n",
       "        text-align: right;\n",
       "    }\n",
       "</style>\n",
       "<table border=\"1\" class=\"dataframe\">\n",
       "  <thead>\n",
       "    <tr style=\"text-align: right;\">\n",
       "      <th></th>\n",
       "      <th>answer</th>\n",
       "      <th>relation</th>\n",
       "      <th>target</th>\n",
       "    </tr>\n",
       "  </thead>\n",
       "  <tbody>\n",
       "    <tr>\n",
       "      <th>0</th>\n",
       "      <td>For father's father, we retrieve &lt;father&gt;&lt;fath...</td>\n",
       "      <td>grandfather</td>\n",
       "      <td>grandfather</td>\n",
       "    </tr>\n",
       "    <tr>\n",
       "      <th>1</th>\n",
       "      <td>For daughter’s aunt, we retrieve &lt;daughter&gt;&lt;au...</td>\n",
       "      <td>aunt.</td>\n",
       "      <td>sister</td>\n",
       "    </tr>\n",
       "    <tr>\n",
       "      <th>2</th>\n",
       "      <td>For son’s daughter, we retrieve &lt;son&gt;&lt;daughter...</td>\n",
       "      <td>sibling.</td>\n",
       "      <td>granddaughter</td>\n",
       "    </tr>\n",
       "    <tr>\n",
       "      <th>3</th>\n",
       "      <td>For daughter’s daughter, we retrieve &lt;daughter...</td>\n",
       "      <td>granddaughter.</td>\n",
       "      <td>granddaughter</td>\n",
       "    </tr>\n",
       "    <tr>\n",
       "      <th>4</th>\n",
       "      <td>For son's uncle, we retrieve &lt;son&gt;&lt;uncle&gt;son’s...</td>\n",
       "      <td>brother.</td>\n",
       "      <td>brother</td>\n",
       "    </tr>\n",
       "  </tbody>\n",
       "</table>\n",
       "</div>"
      ],
      "text/plain": [
       "                                              answer        relation  \\\n",
       "0  For father's father, we retrieve <father><fath...     grandfather   \n",
       "1  For daughter’s aunt, we retrieve <daughter><au...           aunt.   \n",
       "2  For son’s daughter, we retrieve <son><daughter...        sibling.   \n",
       "3  For daughter’s daughter, we retrieve <daughter...  granddaughter.   \n",
       "4  For son's uncle, we retrieve <son><uncle>son’s...        brother.   \n",
       "\n",
       "          target  \n",
       "0    grandfather  \n",
       "1         sister  \n",
       "2  granddaughter  \n",
       "3  granddaughter  \n",
       "4        brother  "
      ]
     },
     "execution_count": 85,
     "metadata": {},
     "output_type": "execute_result"
    }
   ],
   "source": [
    "five_shot_CoT_HtTs=[]\n",
    "for i in range(len(datas)):\n",
    "    five_shot_CoT_HtT={'answer':[],'relation':[]}\n",
    "    for j in trange(50):\n",
    "        responsers=five_shot_CoT_HtT_generation(datas[i]['5-shot_CoT+HtT'][j])\n",
    "        five_shot_CoT_HtT['answer'].append(responsers[0])\n",
    "        five_shot_CoT_HtT['relation'].append(responsers[1].lower())\n",
    "    temp=pd.DataFrame(five_shot_CoT_HtT)\n",
    "    temp['target']=datas[i]['target'][:50]\n",
    "    five_shot_CoT_HtTs.append(temp)\n",
    "five_shot_CoT_HtTs[0].head()"
   ]
  },
  {
   "cell_type": "code",
   "execution_count": 86,
   "metadata": {},
   "outputs": [],
   "source": [
    "'''path1=\"F:\\\\Files\\\\work\\\\ICT\\\\PAPER_PREPREDUCIBILITY\\\\LLM_can_learn_RULES\\\\result\\\\CLUTTER\\\\fiveshot_CoT\\\\plus_HtT\\\\\"\n",
    "five_shot_CoT_HtTs[0].to_csv(path1+'five_shot_CoT_HtT0.csv')\n",
    "five_shot_CoT_HtTs[1].to_csv(path1+'five_shot_CoT_HtT1.csv')\n",
    "five_shot_CoT_HtTs[2].to_csv(path1+'five_shot_CoT_HtT2.csv')'''"
   ]
  },
  {
   "cell_type": "markdown",
   "metadata": {},
   "source": [
    "## 5-shot LtM+HtT"
   ]
  },
  {
   "cell_type": "code",
   "execution_count": 89,
   "metadata": {},
   "outputs": [
    {
     "data": {
      "text/html": [
       "<div>\n",
       "<style scoped>\n",
       "    .dataframe tbody tr th:only-of-type {\n",
       "        vertical-align: middle;\n",
       "    }\n",
       "\n",
       "    .dataframe tbody tr th {\n",
       "        vertical-align: top;\n",
       "    }\n",
       "\n",
       "    .dataframe thead th {\n",
       "        text-align: right;\n",
       "    }\n",
       "</style>\n",
       "<table border=\"1\" class=\"dataframe\">\n",
       "  <thead>\n",
       "    <tr style=\"text-align: right;\">\n",
       "      <th></th>\n",
       "      <th>id</th>\n",
       "      <th>query</th>\n",
       "      <th>target</th>\n",
       "      <th>f_comb</th>\n",
       "      <th>edge_types</th>\n",
       "      <th>genders</th>\n",
       "      <th>task_split</th>\n",
       "      <th>head_tail_pairs</th>\n",
       "      <th>relation_path</th>\n",
       "      <th>zero_shot_content</th>\n",
       "      <th>length</th>\n",
       "      <th>5-shot_CoT+HtT</th>\n",
       "    </tr>\n",
       "  </thead>\n",
       "  <tbody>\n",
       "    <tr>\n",
       "      <th>0</th>\n",
       "      <td>7c062432-2915-422f-b84f-8aaeba9a50d3</td>\n",
       "      <td>('Dionne', 'Kyle')</td>\n",
       "      <td>grandfather</td>\n",
       "      <td>father-father</td>\n",
       "      <td>['father', 'father']</td>\n",
       "      <td>Dionne:female,Edward:male,Kyle:male,Benny:male</td>\n",
       "      <td>train</td>\n",
       "      <td>['Dionne', 'Kyle']</td>\n",
       "      <td>['father', 'father']</td>\n",
       "      <td>Context: The relations on the path from {Dionn...</td>\n",
       "      <td>2</td>\n",
       "      <td>Context: The relations on the path from {Dionn...</td>\n",
       "    </tr>\n",
       "    <tr>\n",
       "      <th>1</th>\n",
       "      <td>15a6777d-0e29-45c1-a7a7-46fd47946085</td>\n",
       "      <td>('Robin', 'Shirley')</td>\n",
       "      <td>sister</td>\n",
       "      <td>daughter-aunt</td>\n",
       "      <td>['daughter', 'aunt']</td>\n",
       "      <td>Robin:female,Serena:female,Shirley:female,Lisa...</td>\n",
       "      <td>train</td>\n",
       "      <td>['Robin', 'Shirley']</td>\n",
       "      <td>['daughter', 'aunt']</td>\n",
       "      <td>Context: The relations on the path from {Robin...</td>\n",
       "      <td>2</td>\n",
       "      <td>Context: The relations on the path from {Robin...</td>\n",
       "    </tr>\n",
       "    <tr>\n",
       "      <th>2</th>\n",
       "      <td>524dad6a-cb41-447f-904b-8f9945819c48</td>\n",
       "      <td>('Kyle', 'Patty')</td>\n",
       "      <td>granddaughter</td>\n",
       "      <td>son-daughter</td>\n",
       "      <td>['son', 'daughter']</td>\n",
       "      <td>Kyle:male,Edward:male,Patty:female,Karen:female</td>\n",
       "      <td>train</td>\n",
       "      <td>['Kyle', 'Patty']</td>\n",
       "      <td>['son', 'daughter']</td>\n",
       "      <td>Context: The relations on the path from {Kyle}...</td>\n",
       "      <td>2</td>\n",
       "      <td>Context: The relations on the path from {Kyle}...</td>\n",
       "    </tr>\n",
       "    <tr>\n",
       "      <th>3</th>\n",
       "      <td>76b1579c-2be2-4415-b204-3d9851c184c7</td>\n",
       "      <td>('Kyle', 'Amanda')</td>\n",
       "      <td>granddaughter</td>\n",
       "      <td>daughter-daughter</td>\n",
       "      <td>['daughter', 'daughter']</td>\n",
       "      <td>Kyle:male,Theresa:female,Amanda:female,Henry:male</td>\n",
       "      <td>train</td>\n",
       "      <td>['Kyle', 'Amanda']</td>\n",
       "      <td>['daughter', 'daughter']</td>\n",
       "      <td>Context: The relations on the path from {Kyle}...</td>\n",
       "      <td>2</td>\n",
       "      <td>Context: The relations on the path from {Kyle}...</td>\n",
       "    </tr>\n",
       "    <tr>\n",
       "      <th>4</th>\n",
       "      <td>412ffec6-9876-41f1-b4af-9b027e51453b</td>\n",
       "      <td>('Shirley', 'Edward')</td>\n",
       "      <td>brother</td>\n",
       "      <td>son-uncle</td>\n",
       "      <td>['son', 'uncle']</td>\n",
       "      <td>Shirley:female,James:male,Edward:male,Vernon:male</td>\n",
       "      <td>train</td>\n",
       "      <td>['Shirley', 'Edward']</td>\n",
       "      <td>['son', 'uncle']</td>\n",
       "      <td>Context: The relations on the path from {Shirl...</td>\n",
       "      <td>2</td>\n",
       "      <td>Context: The relations on the path from {Shirl...</td>\n",
       "    </tr>\n",
       "  </tbody>\n",
       "</table>\n",
       "</div>"
      ],
      "text/plain": [
       "                                     id                  query         target  \\\n",
       "0  7c062432-2915-422f-b84f-8aaeba9a50d3     ('Dionne', 'Kyle')    grandfather   \n",
       "1  15a6777d-0e29-45c1-a7a7-46fd47946085   ('Robin', 'Shirley')         sister   \n",
       "2  524dad6a-cb41-447f-904b-8f9945819c48      ('Kyle', 'Patty')  granddaughter   \n",
       "3  76b1579c-2be2-4415-b204-3d9851c184c7     ('Kyle', 'Amanda')  granddaughter   \n",
       "4  412ffec6-9876-41f1-b4af-9b027e51453b  ('Shirley', 'Edward')        brother   \n",
       "\n",
       "              f_comb                edge_types  \\\n",
       "0      father-father      ['father', 'father']   \n",
       "1      daughter-aunt      ['daughter', 'aunt']   \n",
       "2       son-daughter       ['son', 'daughter']   \n",
       "3  daughter-daughter  ['daughter', 'daughter']   \n",
       "4          son-uncle          ['son', 'uncle']   \n",
       "\n",
       "                                             genders task_split  \\\n",
       "0     Dionne:female,Edward:male,Kyle:male,Benny:male      train   \n",
       "1  Robin:female,Serena:female,Shirley:female,Lisa...      train   \n",
       "2    Kyle:male,Edward:male,Patty:female,Karen:female      train   \n",
       "3  Kyle:male,Theresa:female,Amanda:female,Henry:male      train   \n",
       "4  Shirley:female,James:male,Edward:male,Vernon:male      train   \n",
       "\n",
       "         head_tail_pairs             relation_path  \\\n",
       "0     ['Dionne', 'Kyle']      ['father', 'father']   \n",
       "1   ['Robin', 'Shirley']      ['daughter', 'aunt']   \n",
       "2      ['Kyle', 'Patty']       ['son', 'daughter']   \n",
       "3     ['Kyle', 'Amanda']  ['daughter', 'daughter']   \n",
       "4  ['Shirley', 'Edward']          ['son', 'uncle']   \n",
       "\n",
       "                                   zero_shot_content  length  \\\n",
       "0  Context: The relations on the path from {Dionn...       2   \n",
       "1  Context: The relations on the path from {Robin...       2   \n",
       "2  Context: The relations on the path from {Kyle}...       2   \n",
       "3  Context: The relations on the path from {Kyle}...       2   \n",
       "4  Context: The relations on the path from {Shirl...       2   \n",
       "\n",
       "                                      5-shot_CoT+HtT  \n",
       "0  Context: The relations on the path from {Dionn...  \n",
       "1  Context: The relations on the path from {Robin...  \n",
       "2  Context: The relations on the path from {Kyle}...  \n",
       "3  Context: The relations on the path from {Kyle}...  \n",
       "4  Context: The relations on the path from {Shirl...  "
      ]
     },
     "execution_count": 89,
     "metadata": {},
     "output_type": "execute_result"
    }
   ],
   "source": [
    "data1.head()"
   ]
  },
  {
   "cell_type": "code",
   "execution_count": 98,
   "metadata": {},
   "outputs": [],
   "source": [
    "def five_shot_CoT_HtT_prompt(x):\n",
    "    return \"Question: What is \"+eval(x)[0]+\"’s \"+eval(x)[1]+\"\\n\\nAnswer:\"\n",
    "data1[\"5-shot_LtM+HtT\"]=data1[\"edge_types\"].apply(five_shot_CoT_HtT_prompt)"
   ]
  },
  {
   "cell_type": "code",
   "execution_count": 100,
   "metadata": {},
   "outputs": [],
   "source": [
    "shot=\"Question: What is daughter’s uncle? \\n\\nAnswer: <daughter><uncle>Daughter’s uncle is mother. \\n\\nQuestion: What is brother’s mother? \\n\\nAnswer: <brother><mother>Brother’s mother is mother. \\n\\nQuestion: What is sister’s aunt? \\n\\nAnswer: <sister><aunt>Sister’s aunt is aunt. \\n\\nQuestion: What is father’s daughter? \\n\\nAnswer: <father><daughter>Father’s daughter is sister. \\n\\nQuestion: What is sister’s father? \\n\\nAnswer: <sister><father>Sister’s father is father.\""
   ]
  },
  {
   "cell_type": "code",
   "execution_count": 102,
   "metadata": {},
   "outputs": [],
   "source": [
    "model = \"qwen-turbo\"\n",
    "\n",
    "\n",
    "def five_shot_LtM_HtT_generation(content):\n",
    "    responses = []\n",
    "    content = (\n",
    "        \"Instruction: When you answer the questions, try to use the provided knowledge whenever possible. Try not to invent knowledge by yourself unless necessary. \\n\\nKnowledge:\"\n",
    "        + rule4CLUTTER\n",
    "        + shot\n",
    "        + content\n",
    "    )\n",
    "    messages = [{\"role\": \"system\", \"content\": \"\"}, {\"role\": \"user\", \"content\": content}]\n",
    "    response = Generation.call(\n",
    "        model=model, messages=messages, temperature=1.0, result_format=\"message\"\n",
    "    )\n",
    "    if response.status_code == HTTPStatus.OK:\n",
    "        responses.append(response.output.choices[0][\"message\"][\"content\"])\n",
    "    else:\n",
    "        print(\n",
    "            \"Request id: %s, Status code: %s, error code: %s, error message: %s\"\n",
    "            % (\n",
    "                response.request_id,\n",
    "                response.status_code,\n",
    "                response.code,\n",
    "                response.message,\n",
    "            )\n",
    "        )\n",
    "\n",
    "    messages.append(\n",
    "        {\n",
    "            \"role\": response.output.choices[0][\"message\"][\"role\"],\n",
    "            \"content\": response.output.choices[0][\"message\"][\"content\"],\n",
    "        }\n",
    "    )\n",
    "\n",
    "    messages.append(\n",
    "        {\n",
    "            \"role\": \"user\",\n",
    "            \"content\": \"What's the final conclusion? Give me nothing but relation in one word.\",\n",
    "        }\n",
    "    )\n",
    "    response = Generation.call(\n",
    "        model=model,\n",
    "        messages=messages,\n",
    "        prompt=None,\n",
    "        temperature=1.0,\n",
    "        result_format=\"message\",\n",
    "    )\n",
    "    if response.status_code == HTTPStatus.OK:\n",
    "        responses.append(response.output.choices[0][\"message\"][\"content\"])\n",
    "    else:\n",
    "        print(\n",
    "            \"Request id: %s, Status code: %s, error code: %s, error message: %s\"\n",
    "            % (\n",
    "                response.request_id,\n",
    "                response.status_code,\n",
    "                response.code,\n",
    "                response.message,\n",
    "            )\n",
    "        )\n",
    "\n",
    "    return responses"
   ]
  },
  {
   "cell_type": "code",
   "execution_count": 105,
   "metadata": {},
   "outputs": [
    {
     "name": "stderr",
     "output_type": "stream",
     "text": [
      "100%|██████████| 50/50 [01:41<00:00,  2.03s/it]\n"
     ]
    },
    {
     "data": {
      "text/html": [
       "<div>\n",
       "<style scoped>\n",
       "    .dataframe tbody tr th:only-of-type {\n",
       "        vertical-align: middle;\n",
       "    }\n",
       "\n",
       "    .dataframe tbody tr th {\n",
       "        vertical-align: top;\n",
       "    }\n",
       "\n",
       "    .dataframe thead th {\n",
       "        text-align: right;\n",
       "    }\n",
       "</style>\n",
       "<table border=\"1\" class=\"dataframe\">\n",
       "  <thead>\n",
       "    <tr style=\"text-align: right;\">\n",
       "      <th></th>\n",
       "      <th>answer</th>\n",
       "      <th>relation</th>\n",
       "      <th>target</th>\n",
       "    </tr>\n",
       "  </thead>\n",
       "  <tbody>\n",
       "    <tr>\n",
       "      <th>0</th>\n",
       "      <td>&lt;father&gt;&lt;father&gt;Father's father is grandfather.</td>\n",
       "      <td>ancestor</td>\n",
       "      <td>grandfather</td>\n",
       "    </tr>\n",
       "    <tr>\n",
       "      <th>1</th>\n",
       "      <td>&lt;daughter&gt;&lt;aunt&gt;Daughter's aunt is sister.</td>\n",
       "      <td>relationship.</td>\n",
       "      <td>sister</td>\n",
       "    </tr>\n",
       "    <tr>\n",
       "      <th>2</th>\n",
       "      <td>&lt;Son’s&gt;&lt;daughter&gt; Son’s daughter is granddaugh...</td>\n",
       "      <td>granddaughter</td>\n",
       "      <td>granddaughter</td>\n",
       "    </tr>\n",
       "    <tr>\n",
       "      <th>3</th>\n",
       "      <td>&lt;daughter&gt;&lt;daughter&gt;Daughter's daughter is gra...</td>\n",
       "      <td>granddaughter</td>\n",
       "      <td>granddaughter</td>\n",
       "    </tr>\n",
       "    <tr>\n",
       "      <th>4</th>\n",
       "      <td>&lt;son&gt;&lt;uncle&gt;Son’s uncle is brother.</td>\n",
       "      <td>relationship.</td>\n",
       "      <td>brother</td>\n",
       "    </tr>\n",
       "  </tbody>\n",
       "</table>\n",
       "</div>"
      ],
      "text/plain": [
       "                                              answer       relation  \\\n",
       "0    <father><father>Father's father is grandfather.       ancestor   \n",
       "1         <daughter><aunt>Daughter's aunt is sister.  relationship.   \n",
       "2  <Son’s><daughter> Son’s daughter is granddaugh...  granddaughter   \n",
       "3  <daughter><daughter>Daughter's daughter is gra...  granddaughter   \n",
       "4                <son><uncle>Son’s uncle is brother.  relationship.   \n",
       "\n",
       "          target  \n",
       "0    grandfather  \n",
       "1         sister  \n",
       "2  granddaughter  \n",
       "3  granddaughter  \n",
       "4        brother  "
      ]
     },
     "execution_count": 105,
     "metadata": {},
     "output_type": "execute_result"
    }
   ],
   "source": [
    "five_shot_LtM_HtT={'answer':[],'relation':[]}\n",
    "for j in trange(50):\n",
    "    responsers=five_shot_LtM_HtT_generation(data1['5-shot_LtM+HtT'][j])\n",
    "    five_shot_LtM_HtT['answer'].append(responsers[0])\n",
    "    five_shot_LtM_HtT['relation'].append(responsers[1].lower())\n",
    "    temp=pd.DataFrame(five_shot_LtM_HtT)\n",
    "    temp['target']=data1['target'][:50]\n",
    "temp.head()"
   ]
  },
  {
   "cell_type": "code",
   "execution_count": 106,
   "metadata": {},
   "outputs": [
    {
     "name": "stdout",
     "output_type": "stream",
     "text": [
      "<class 'pandas.core.frame.DataFrame'>\n",
      "RangeIndex: 50 entries, 0 to 49\n",
      "Data columns (total 3 columns):\n",
      " #   Column    Non-Null Count  Dtype \n",
      "---  ------    --------------  ----- \n",
      " 0   answer    50 non-null     object\n",
      " 1   relation  50 non-null     object\n",
      " 2   target    50 non-null     object\n",
      "dtypes: object(3)\n",
      "memory usage: 1.3+ KB\n"
     ]
    }
   ],
   "source": [
    "temp.info()"
   ]
  },
  {
   "cell_type": "code",
   "execution_count": 107,
   "metadata": {},
   "outputs": [],
   "source": [
    "temp.to_csv(\"F:\\\\Files\\\\work\\\\ICT\\\\PAPER_PREPREDUCIBILITY\\\\LLM_can_learn_RULES\\\\result\\\\CLUTTER\\\\five_shot_LtM\\\\plus_HtT\\\\five_shot_LtM_HtT.csv\")"
   ]
  }
 ],
 "metadata": {
  "kernelspec": {
   "display_name": "llms",
   "language": "python",
   "name": "python3"
  },
  "language_info": {
   "codemirror_mode": {
    "name": "ipython",
    "version": 3
   },
   "file_extension": ".py",
   "mimetype": "text/x-python",
   "name": "python",
   "nbconvert_exporter": "python",
   "pygments_lexer": "ipython3",
   "version": "3.12.4"
  }
 },
 "nbformat": 4,
 "nbformat_minor": 2
}
